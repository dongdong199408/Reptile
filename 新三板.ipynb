{
 "cells": [
  {
   "cell_type": "markdown",
   "metadata": {},
   "source": [
    "# 新三板企业数据详情爬取"
   ]
  },
  {
   "cell_type": "markdown",
   "metadata": {},
   "source": [
    "# 注：首先去网站http://www.neeq.com.cn下载下来公司code，类似20190111161848_c27jcvswfr.xlsx"
   ]
  },
  {
   "cell_type": "code",
   "execution_count": null,
   "metadata": {},
   "outputs": [],
   "source": [
    "import xlrd\n",
    "import requests\n",
    "import json\n",
    "import pymysql\n",
    "from datetime import datetime\n",
    "def readexcel(path):\n",
    "    workbook = xlrd.open_workbook(path)\n",
    "    sheets = workbook.sheet_names()\n",
    "    #worksheet = workbook.sheet_by_name(sheets[0])\n",
    "   # worksheet = workbook.sheets()[0]\n",
    "    worksheet = workbook.sheet_by_index(0)\n",
    "    data=[]\n",
    "    for i in range(0, worksheet.ncols):\n",
    "        row = worksheet.row(i)\n",
    "        data.append(worksheet.col_values(i))\n",
    "    return data\n",
    "data=readexcel('C:\\\\Users\\\\Administrator\\\\Desktop\\\\20190111161848_c27jcvswfr.xlsx')\n",
    "#定义一个getjson函数用来解析返回的数据\n",
    "def getjson(c):\n",
    "    headers = {\n",
    "        'User-Agent': 'Mozilla/5.0 (Windows NT 6.1) AppleWebKit/537.36 (KHTML, like Gecko) Chrome/58.0.3029.110 Safari/537.36'\n",
    "    }\n",
    "    url='http://www.neeq.com.cn/nqhqController/detailCompany.do?callback=jQuery18303499613453215563_1542331950561&zqdm=%s&_=1542331957847'%str(int(c))\n",
    "    response=requests.get(url=url,headers=headers)\n",
    "    html=response.text\n",
    "    html=html.lstrip(\"'jQuery18303499613453215563_1542331950561(\").rstrip(\")'\")\n",
    "    decodejson=eval(html)\n",
    "    return decodejson\n",
    "\n",
    "#连接数据库、获得游标，获取数据并插入到数据库中\n",
    "#在获取数据时使用get()方法比较好，避免造成无相关数据时程序的中断\n",
    "conn=pymysql.connect(host='localhost',user='root',password='123456',db='baidudata',charset='utf8')\n",
    "cur=conn.cursor()\n",
    "cur.execute(\"DROP TABLE IF EXISTS xinsanbandetail\")\n",
    "aql1='''CREATE TABLE xinsanbandetail(\n",
    "                    ID int primary key auto_increment not null,\n",
    "                    code VARCHAR(50) not null,\n",
    "                    name VARCHAR(50) not null,\n",
    "                    industry VARCHAR(50) not null,\n",
    "                    address VARCHAR(200)  null,\n",
    "                    postcode VARCHAR(200) not null,\n",
    "                    broker VARCHAR(50) not null,\n",
    "                    area VARCHAR(50) not null,\n",
    "                    TM VARCHAR(50) not null);'''\n",
    "try:\n",
    "    cur.execute(aql1)\n",
    "except Exception as e:\n",
    "            print(e)\n",
    "for c in data[0][4:]:\n",
    "    decodejson=getjson(c)\n",
    "    #print(decodejson)\n",
    "    if decodejson.get('baseinfo'):\n",
    "        result=decodejson.get('baseinfo')\n",
    "        code=result.get('code')\n",
    "        name=result.get('name')\n",
    "        industry =result.get('industry')\n",
    "        address=result.get('address')\n",
    "        postcode=result.get('postcode')\n",
    "        broker=result.get('broker')\n",
    "        area=result.get('area')\n",
    "        TM=result.get('listingDate')\n",
    "        sql=\"\"\"INSERT INTO xinsanbandetail\n",
    "(code,name,industry,address,postcode,broker,area,TM)\n",
    "VALUES ('%s','%s','%s','%s','%s','%s','%s','%s');\"\"\"%(code,name,industry,address,postcode,broker,area,TM)\n",
    "        #print(sql)\n",
    "        cur.execute(sql)\n",
    "        conn.commit()\n",
    "cur.close()\n",
    "conn.close()\n"
   ]
  }
 ],
 "metadata": {
  "kernelspec": {
   "display_name": "Python 3",
   "language": "python",
   "name": "python3"
  },
  "language_info": {
   "codemirror_mode": {
    "name": "ipython",
    "version": 3
   },
   "file_extension": ".py",
   "mimetype": "text/x-python",
   "name": "python",
   "nbconvert_exporter": "python",
   "pygments_lexer": "ipython3",
   "version": "3.6.5"
  }
 },
 "nbformat": 4,
 "nbformat_minor": 2
}
