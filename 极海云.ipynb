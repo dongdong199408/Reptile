{
 "cells": [
  {
   "cell_type": "code",
   "execution_count": 1,
   "metadata": {},
   "outputs": [],
   "source": [
    "import requests\n",
    "import numpy as np\n",
    "import pandas as pd\n",
    "import json\n",
    "import csv\n",
    "headers = {\n",
    "        'Accept':'text/html,application/xhtml+xml,application/xml;q=0.9,image/webp,*/*;q=0.8',\n",
    "        'Accept-Encoding':'gzip, deflate, sdch',\n",
    "        'Accept-Language':'zh-CN,zh;q=0.8,en-US;q=0.6,en;q=0.4',\n",
    "        'Cache-Control':'max-age=0',\n",
    "        'Connection':'keep-alive',\n",
    "        'Upgrade-Insecure-Requests':'1',\n",
    "        'User-Agent':'Mozilla/5.0 (Windows NT 10.0; Win64; x64) AppleWebKit/537.36 (KHTML, like Gecko) Chrome/58.0.3029.96 Safari/537.36',\n",
    "}\n",
    "\n",
    "# 参数设置\n",
    "ak_id = 'YjJkNGI4N2ViZTZhNDQxZmE4M2YxOGM1OTBkYjc3Y2Q'\n",
    "data_id = '2c4fa087a610479f8593adc8e3ad30bc'\n",
    "\n",
    "limit = 1000\n",
    "total_num =7786\n",
    "file_name = 'd:\\\\works\\\\飞机场.csv'\n",
    "# 标准化API地址\n",
    "url = 'http://geohey.com/s/public_data/{dataid}/query?ak={akid}&limit={limit_num}&offset={offset_num}'\n",
    "# 保存设置\n",
    "save_path = 'GeoHeyData/{file_name}.csv'\n",
    "\n",
    "# 计算页数\n",
    "count = total_num // limit\n",
    "# 循环页数\n",
    "tmp_list = []\n",
    "for times in range(0, count + 1):\n",
    "#     计算偏移量\n",
    "    offset_n = times * limit\n",
    "#     请求API\n",
    "    response = requests.get(url.format(dataid=data_id, akid=ak_id, limit_num=limit, offset_num=offset_n), headers = headers)\n",
    "#     将请求数据转换为dict\n",
    "    res_dict = json.loads(response.content.decode('utf8'))\n",
    "#     将数据转化为数据框\n",
    "for data in res_dict['data']['features']:\n",
    "    tmp_list.append(data['attrs'])\n",
    "A=pd.DataFrame(tmp_list)\n"
   ]
  },
  {
   "cell_type": "code",
   "execution_count": null,
   "metadata": {},
   "outputs": [],
   "source": []
  }
 ],
 "metadata": {
  "kernelspec": {
   "display_name": "Python 3",
   "language": "python",
   "name": "python3"
  },
  "language_info": {
   "codemirror_mode": {
    "name": "ipython",
    "version": 3
   },
   "file_extension": ".py",
   "mimetype": "text/x-python",
   "name": "python",
   "nbconvert_exporter": "python",
   "pygments_lexer": "ipython3",
   "version": "3.6.5"
  }
 },
 "nbformat": 4,
 "nbformat_minor": 2
}
